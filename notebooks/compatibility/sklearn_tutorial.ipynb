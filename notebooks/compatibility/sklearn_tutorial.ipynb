{
 "cells": [
  {
   "cell_type": "markdown",
   "metadata": {
    "collapsed": true
   },
   "source": [
    "# Scikit-Learn: Active learning with Random Forest\n",
    "\n",
    "[![Open In Colab](https://colab.research.google.com/assets/colab-badge.svg)](https://colab.research.google.com/github/baal-org/baal/blob/master/notebooks/compatibility/sklearn_tutorial.ipynb)\n",
    "\n",
    "In this tutorial, you will learn how to use Baal on a scikit-learn model.\n",
    "In this case, we will use `RandomForestClassifier`.\n",
    "\n",
    "This tutorial is based on the tutorial from [Saimadhu Polamuri](https://dataaspirant.com/2017/06/26/random-forest-classifier-python-scikit-learn/).\n",
    "\n",
    "First, if you have not done it yet, let's install Baal.\n",
    "\n",
    "```bash\n",
    "pip install baal\n",
    "```"
   ]
  },
  {
   "cell_type": "code",
   "execution_count": 12,
   "source": [
    "%load_ext autoreload\n",
    "%autoreload 2\n",
    "from sklearn.ensemble import RandomForestClassifier\n",
    "from sklearn.metrics import accuracy_score, confusion_matrix\n",
    "from sklearn.model_selection import train_test_split\n",
    "HEADERS = [\"CodeNumber\", \"ClumpThickness\", \"UniformityCellSize\", \"UniformityCellShape\", \"MarginalAdhesion\",\n",
    "           \"SingleEpithelialCellSize\", \"BareNuclei\", \"BlandChromatin\", \"NormalNucleoli\", \"Mitoses\", \"CancerType\"]\n",
    "\n",
    "import pandas as pd\n",
    "data = 'https://archive.ics.uci.edu/ml/machine-learning-databases/breast-cancer-wisconsin/breast-cancer-wisconsin.data'\n",
    "dataset = pd.read_csv(data)\n",
    "dataset.columns = HEADERS\n",
    "\n",
    "# Handle missing labels\n",
    "dataset = dataset[dataset[HEADERS[6]] != '?']\n",
    "\n",
    "\n",
    "# Split\n",
    "train_x, test_x, train_y, test_y = train_test_split(dataset[HEADERS[1:-1]], dataset[HEADERS[-1]],\n",
    "                                                        train_size=0.7)\n",
    "\n",
    "\n",
    "clf = RandomForestClassifier()\n",
    "clf.fit(train_x, train_y)\n",
    "\n",
    "# Get metrics\n",
    "predictions = clf.predict(test_x)\n",
    "print(\"Train Accuracy :: \", accuracy_score(train_y, clf.predict(train_x)))\n",
    "print(\"Test Accuracy  :: \", accuracy_score(test_y, predictions))\n",
    "print(\" Confusion matrix \", confusion_matrix(test_y, predictions))\n"
   ],
   "metadata": {
    "collapsed": false,
    "pycharm": {
     "is_executing": false
    }
   },
   "outputs": []
  },
  {
   "cell_type": "markdown",
   "source": [
    "Now that you have a trained model, you can use it to perform uncertainty estimation.\n",
    "The SKLearn API directly propose `RandomForestClassifier.predict_proba` which would return the mean\n",
    "response from the RandomForest.\n",
    "\n",
    "But if you wish to try one of our heuristics in `baal.active.heuristics`, here's how."
   ],
   "metadata": {
    "collapsed": false
   }
  },
  {
   "cell_type": "code",
   "execution_count": 13,
   "source": [
    "import numpy as np\n",
    "from baal.active.heuristics import BALD\n",
    "print(f\"Using {len(clf.estimators_)} estimators\")\n",
    "\n",
    "# Predict independently for all estimators.\n",
    "x = np.array(list(map(lambda e: e.predict_proba(test_x), clf.estimators_)))\n",
    "# Roll axis because Baal expect [n_samples, n_classes, ..., n_estimations]\n",
    "x = np.rollaxis(x, 0, 3)\n",
    "print(\"Uncertainty per sample\")\n",
    "print(BALD().compute_score(x))\n",
    "\n",
    "print(\"Ranks\")\n",
    "print(BALD()(x))\n"
   ],
   "metadata": {
    "collapsed": false,
    "pycharm": {
     "is_executing": false
    }
   },
   "outputs": []
  },
  {
   "cell_type": "markdown",
   "source": [
    "## Active learning with SkLearn\n",
    "\n",
    "You can also try Active learning by using `ActiveNumpyArray`.\n",
    "\n",
    "\n",
    "**NOTE**: Because we focus on images, we have not made experiments on this setup."
   ],
   "metadata": {
    "collapsed": false
   }
  },
  {
   "cell_type": "code",
   "execution_count": 14,
   "source": [
    "from baal.active.dataset import ActiveNumpyArray\n",
    "dataset = ActiveNumpyArray((train_x, train_y))\n",
    "\n",
    "# We start with a 10 labelled samples.\n",
    "dataset.label_randomly(10)\n",
    "\n",
    "heuristic = BALD()\n",
    "\n",
    "# We will use a RandomForest in this case.\n",
    "clf = RandomForestClassifier()\n",
    "def predict(test, clf):\n",
    "    # Predict with all fitted estimators.\n",
    "    x = np.array(list(map(lambda e: e.predict_proba(test[0]), clf.estimators_)))\n",
    "    \n",
    "    # Roll axis because Baal expect [n_samples, n_classes, ..., n_estimations]\n",
    "    x = np.rollaxis(x, 0, 3)\n",
    "    return x\n",
    "\n",
    "for _ in range(5):\n",
    "  print(\"Dataset size\", len(dataset))\n",
    "  clf.fit(*dataset.dataset)\n",
    "  predictions = clf.predict(test_x)\n",
    "  print(\"Test Accuracy  :: \", accuracy_score(test_y, predictions))\n",
    "  probs = predict(dataset.pool, clf)\n",
    "  to_label = heuristic(probs)\n",
    "  query_size = 10\n",
    "  if len(to_label) > 0:\n",
    "      dataset.label(to_label[: query_size])\n",
    "  else:\n",
    "    break"
   ],
   "metadata": {
    "collapsed": false,
    "pycharm": {
     "is_executing": false
    }
   },
   "outputs": []
  }
 ],
 "metadata": {
  "kernelspec": {
   "name": "pycharm-a12da823",
   "language": "python",
   "display_name": "PyCharm (bayesian-active-learning)"
  },
  "language_info": {
   "codemirror_mode": {
    "name": "ipython",
    "version": 2
   },
   "file_extension": ".py",
   "mimetype": "text/x-python",
   "name": "python",
   "nbconvert_exporter": "python",
   "pygments_lexer": "ipython2",
   "version": "2.7.6"
  }
 },
 "nbformat": 4,
 "nbformat_minor": 0
}
